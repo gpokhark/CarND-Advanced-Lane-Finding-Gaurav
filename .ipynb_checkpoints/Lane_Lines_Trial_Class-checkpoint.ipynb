{
 "cells": [
  {
   "cell_type": "code",
   "execution_count": null,
   "metadata": {},
   "outputs": [],
   "source": [
    "# # Run this cell but don't modify it.\n",
    "\n",
    "# %load_ext autoreload\n",
    "# %autoreload 2\n",
    "# import numpy as np\n",
    "# import os\n",
    "# import cv2\n",
    "# import glob\n",
    "# import matplotlib.pyplot as plt\n",
    "# import pickle\n",
    "# import matplotlib.image as mpimg\n",
    "# from lane_lines import Lane_Lines"
   ]
  },
  {
   "cell_type": "code",
   "execution_count": null,
   "metadata": {},
   "outputs": [],
   "source": [
    "# # Load our image\n",
    "# binary_w= mpimg.imread('output_images/warped/test2.jpg')\n",
    "# binary_warped = Lane_Lines(np.copy(binary_w[:,:,1]))\n",
    "# # binary_warped = Lane_Lines(np.copy(binary_w))\n",
    "# out_img = binary_warped.fit_polynomial()\n",
    "# left_curverad, right_curverad = binary_warped.measure_curvature_real()\n",
    "# print('Left Lane =', left_curverad, 'm and Right Lane =', right_curverad, 'm')\n",
    "# print('Radius of road =',((left_curverad+right_curverad)/2),'m')\n",
    "# plt.imshow(out_img)"
   ]
  },
  {
   "cell_type": "code",
   "execution_count": 10,
   "metadata": {},
   "outputs": [],
   "source": [
    "# Run this cell but don't modify it.\n",
    "\n",
    "# %load_ext autoreload\n",
    "# %autoreload 2\n",
    "import numpy as np\n",
    "import os\n",
    "import cv2\n",
    "import glob\n",
    "import matplotlib.pyplot as plt\n",
    "import pickle\n",
    "import matplotlib.image as mpimg\n",
    "from lane_lines import Lane_Lines"
   ]
  },
  {
   "cell_type": "code",
   "execution_count": 11,
   "metadata": {},
   "outputs": [
    {
     "name": "stdout",
     "output_type": "stream",
     "text": [
      "Left Lane Inds 1\n",
      "Right Lane Inds 1\n",
      "Left Lane Inds 2\n",
      "Right Lane Inds 2\n",
      "Left Lane Inds 3\n",
      "Right Lane Inds 3\n",
      "Left Lane Inds 4\n",
      "Right Lane Inds 4\n",
      "Left Lane Inds 5\n",
      "Right Lane Inds 5\n",
      "Left Lane Inds 6\n",
      "Right Lane Inds 6\n",
      "Left Lane Inds 7\n",
      "Right Lane Inds 7\n",
      "Left Lane Inds 8\n",
      "Right Lane Inds 8\n",
      "Left Lane Inds 9\n",
      "Right Lane Inds 9\n",
      "Left Lane Inds 10\n",
      "Right Lane Inds 10\n",
      "Left Lane = 1557.86 m and Right Lane = 744.23 m\n",
      "Radius of road = 1151.04 m\n"
     ]
    },
    {
     "data": {
      "text/plain": [
       "<matplotlib.image.AxesImage at 0x2077cf8fe10>"
      ]
     },
     "execution_count": 11,
     "metadata": {},
     "output_type": "execute_result"
    },
    {
     "data": {
      "image/png": "[encoded data removed]",
      "text/plain": [
       "<Figure size 432x288 with 1 Axes>"
      ]
     },
     "metadata": {},
     "output_type": "display_data"
    }
   ],
   "source": [
    "# Load our image\n",
    "binary_w= mpimg.imread('output_images/warped/test2.jpg')\n",
    "binary_warped = Lane_Lines(np.copy(binary_w[:,:,1]))\n",
    "# binary_warped = Lane_Lines(np.copy(binary_w))\n",
    "out_img = binary_warped.find_lane_pixels()\n",
    "left_curverad, right_curverad, center_offset_m = binary_warped.measure_curvature_real()\n",
    "print('Left Lane =' ,\"%.2f\"% left_curverad, 'm and Right Lane =', \"%.2f\"% right_curverad, 'm')\n",
    "print('Radius of road =',\"%.2f\"% ((left_curverad+right_curverad)/2),'m')\n",
    "print('Center Offset =',\"%.2f\"% center_offset_m,'m')\n",
    "plt.imshow(out_img)"
   ]
  }
 ],
 "metadata": {
  "kernelspec": {
   "display_name": "Python 3",
   "language": "python",
   "name": "python3"
  },
  "language_info": {
   "codemirror_mode": {
    "name": "ipython",
    "version": 3
   },
   "file_extension": ".py",
   "mimetype": "text/x-python",
   "name": "python",
   "nbconvert_exporter": "python",
   "pygments_lexer": "ipython3",
   "version": "3.6.5"
  }
 },
 "nbformat": 4,
 "nbformat_minor": 2
}
