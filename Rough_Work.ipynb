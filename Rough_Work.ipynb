{
 "cells": [
  {
   "cell_type": "code",
   "execution_count": null,
   "metadata": {},
   "outputs": [],
   "source": [
    "for i in dirlist:\n",
    "    img = mpimg.imread(os.path.join(\"test_images/\",i))\n",
    "    hls = cv2.cvtColor(img, cv2.COLOR_RGB2HLS)\n",
    "    gray = cv2.cvtColor(img, cv2.COLOR_RGB2GRAY)\n",
    "    height, width = gray.shape\n",
    "    s_channel = hls[:,:,2]\n",
    "    l_channel = hls[:,:,1]\n",
    "    \n",
    "    # img to s threshold\n",
    "    s_binary = s_select(img,thresh=(150, 255))\n",
    "#     mpimg.imsave(os.path.join(\"test_images/test_images_sbinary/\",i),s_binary,cmap = 'gray')\n",
    "    \n",
    "    # img to l threshold\n",
    "    l_binary = l_select(img,thresh=(120, 255))\n",
    "#     mpimg.imsave(os.path.join(\"test_images/test_images_lbinary/\",i),l_binary,cmap = 'gray')    \n",
    "    \n",
    "    # schannel to x threshold\n",
    "    ksize = 9  # Choose a larger odd number to smooth gradient measurements\n",
    "    gradx = abs_sobel_thresh(s_channel, orient='x', sobel_kernel=ksize, thresh=(20, 100))\n",
    "#     mpimg.imsave(os.path.join(\"test_images/test_images_xbinary/\",i),gradx,cmap = 'gray')\n",
    "    \n",
    "#     # schannel to y threshold\n",
    "#     ksize = 9  # Choose a larger odd number to smooth gradient measurements\n",
    "#     grady = abs_sobel_thresh(s_channel, orient='y', sobel_kernel=ksize, thresh=(20, 100))\n",
    "#     mpimg.imsave(os.path.join(\"test_images/test_images_ybinary/\",i),grady,cmap = 'gray')\n",
    "    \n",
    "#     # gray to mag threshold\n",
    "#     ksize = 9  # Choose a larger odd number to smooth gradient measurements\n",
    "#     mag_binary = mag_thresh(s_channel, sobel_kernel=ksize, mag_thresh=(30, 100))\n",
    "#     mpimg.imsave(os.path.join(\"test_images/test_images_magbinary/\",i),mag_binary,cmap = 'gray')\n",
    "    \n",
    "#     # gray to dir threshold\n",
    "#     ksize = 9  # Choose a larger odd number to smooth gradient measurements\n",
    "#     dir_binary = dir_threshold(gray, sobel_kernel=ksize, thresh=(0.5, 1.7))\n",
    "#     mpimg.imsave(os.path.join(\"test_images/test_images_dirbinary/\",i),dir_binary,cmap = 'gray')\n",
    "    \n",
    "    # combined\n",
    "    combined = np.zeros_like(dir_binary)\n",
    "    combined[((gradx == 1) | (s_binary == 1)) & ((l_binary == 1) & (s_binary == 1))] = 1\n",
    "#     mpimg.imsave(os.path.join(\"test_images/combined/\",i),combined,cmap = 'gray')\n",
    "    \n",
    "    # apply the region of interest mask\n",
    "    mask = np.zeros_like(combined)\n",
    "    region_of_interest_vertices = np.array([[0,height-1], [width/2, int(0.5*height)], [width-1, height-1]], dtype=np.int32)\n",
    "    cv2.fillPoly(mask, [region_of_interest_vertices], 1)\n",
    "    thresholded = cv2.bitwise_and(combined, mask)\n",
    "#     mpimg.imsave(os.path.join(\"test_images/thresholded/\",i),thresholded,cmap = 'gray')"
   ]
  }
 ],
 "metadata": {
  "kernelspec": {
   "display_name": "Python 3",
   "language": "python",
   "name": "python3"
  },
  "language_info": {
   "codemirror_mode": {
    "name": "ipython",
    "version": 3
   },
   "file_extension": ".py",
   "mimetype": "text/x-python",
   "name": "python",
   "nbconvert_exporter": "python",
   "pygments_lexer": "ipython3",
   "version": "3.6.5"
  }
 },
 "nbformat": 4,
 "nbformat_minor": 2
}
